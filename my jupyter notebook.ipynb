{
 "cells": [
  {
   "cell_type": "markdown",
   "id": "5203cd72-be62-44f0-9df0-3ca40fb2589b",
   "metadata": {},
   "source": [
    "# My Jupyter Notebook in IBM Watson Studio #"
   ]
  },
  {
   "cell_type": "markdown",
   "id": "1adbc5c1-c67a-46d0-b089-e48cb7cb0b38",
   "metadata": {},
   "source": [
    "**Bolabattin Shivaraj**"
   ]
  },
  {
   "cell_type": "markdown",
   "id": "9d2e247c-9fc5-41f8-b3f5-287d6e074f33",
   "metadata": {},
   "source": [
    "Data scientist"
   ]
  },
  {
   "cell_type": "markdown",
   "id": "15526920-b2e3-492f-bed7-655ad1906c6a",
   "metadata": {},
   "source": [
    "*I am interested in Data Science beacause I would love to learn the insights from the data*"
   ]
  },
  {
   "cell_type": "markdown",
   "id": "6d2c8613-50ef-4562-95a1-35ed0b5caa17",
   "metadata": {},
   "source": [
    "### The below code should print 'Hello World' ###"
   ]
  },
  {
   "cell_type": "code",
   "execution_count": 13,
   "id": "c6aaea90-4938-466c-b08b-0226298b942b",
   "metadata": {},
   "outputs": [
    {
     "name": "stdout",
     "output_type": "stream",
     "text": [
      "Hello World\n"
     ]
    }
   ],
   "source": [
    "print(\"Hello World\")"
   ]
  },
  {
   "cell_type": "markdown",
   "id": "8ba36c41-f2d1-474e-93d3-7509e5a848cc",
   "metadata": {},
   "source": [
    "* One\n",
    "* Two \n",
    "* Three\n",
    "* Four\n",
    "* Five\n",
    "* Six"
   ]
  },
  {
   "cell_type": "code",
   "execution_count": null,
   "id": "99b5b4bb-2a66-44d9-9e80-250188e5b033",
   "metadata": {},
   "outputs": [],
   "source": []
  }
 ],
 "metadata": {
  "kernelspec": {
   "display_name": "Python",
   "language": "python",
   "name": "conda-env-python-py"
  },
  "language_info": {
   "codemirror_mode": {
    "name": "ipython",
    "version": 3
   },
   "file_extension": ".py",
   "mimetype": "text/x-python",
   "name": "python",
   "nbconvert_exporter": "python",
   "pygments_lexer": "ipython3",
   "version": "3.7.12"
  }
 },
 "nbformat": 4,
 "nbformat_minor": 5
}
